{
 "cells": [
  {
   "cell_type": "markdown",
   "metadata": {},
   "source": [
    "# tf.constant"
   ]
  },
  {
   "cell_type": "code",
   "execution_count": 26,
   "metadata": {
    "collapsed": true
   },
   "outputs": [],
   "source": [
    "import tensorflow as tf"
   ]
  },
  {
   "cell_type": "code",
   "execution_count": 3,
   "metadata": {
    "collapsed": true
   },
   "outputs": [],
   "source": [
    "a = tf.constant(2, name='a')\n",
    "b = tf.constant(3, name='b')\n",
    "x = tf.add(a, b, name='add')"
   ]
  },
  {
   "cell_type": "code",
   "execution_count": 4,
   "metadata": {},
   "outputs": [
    {
     "name": "stdout",
     "output_type": "stream",
     "text": [
      "Tensor(\"add:0\", shape=(), dtype=int32)\n"
     ]
    }
   ],
   "source": [
    "print(x)"
   ]
  },
  {
   "cell_type": "code",
   "execution_count": 5,
   "metadata": {},
   "outputs": [
    {
     "name": "stdout",
     "output_type": "stream",
     "text": [
      "a+b=5\n"
     ]
    }
   ],
   "source": [
    "sess = tf.Session()\n",
    "\n",
    "writer = tf.summary.FileWriter('./temp', sess.graph)\n",
    "print(\"a+b=%r\" % sess.run(x))\n",
    "\n",
    "writer.close()"
   ]
  },
  {
   "cell_type": "code",
   "execution_count": 6,
   "metadata": {},
   "outputs": [],
   "source": [
    "input_tensor = [[0,1],[2,3],[4,5]]\n",
    "\n",
    "# [[0,0,0],[0,0,0]]\n",
    "op_zeros = tf.zeros([2,3], tf.int32)\n",
    "\n",
    "# [[0,0],[0,0],[0,0]]\n",
    "op_zeros_like = tf.zeros_like(input_tensor)\n",
    "\n",
    "# [[1,1,1],[1,1,1]]\n",
    "op_ones = tf.ones([2,3], tf.int32)\n",
    "\n",
    "# [[1,1],[1,1],[1,1]]\n",
    "op_ones_like = tf.ones_like(input_tensor)\n",
    "\n",
    "# [[8,8,8],[8,8,8]]\n",
    "op_ones_fill = tf.ones([2,3], 8)"
   ]
  },
  {
   "cell_type": "code",
   "execution_count": 7,
   "metadata": {},
   "outputs": [],
   "source": [
    "op_zeros, op_zeros_like, op_ones, op_ones_like, op_ones_fill = \\\n",
    "    sess.run([op_zeros, op_zeros_like, op_ones, op_ones_like, op_ones_fill])"
   ]
  },
  {
   "cell_type": "code",
   "execution_count": 8,
   "metadata": {},
   "outputs": [
    {
     "name": "stdout",
     "output_type": "stream",
     "text": [
      "op_zeros=\n",
      "array([[0, 0, 0],\n",
      "       [0, 0, 0]])\n"
     ]
    }
   ],
   "source": [
    "print(\"op_zeros=\\n%r\" % op_zeros)"
   ]
  },
  {
   "cell_type": "code",
   "execution_count": 9,
   "metadata": {},
   "outputs": [
    {
     "name": "stdout",
     "output_type": "stream",
     "text": [
      "op_zeros_like=\n",
      "array([[0, 0],\n",
      "       [0, 0],\n",
      "       [0, 0]])\n"
     ]
    }
   ],
   "source": [
    "print(\"op_zeros_like=\\n%r\" % op_zeros_like)"
   ]
  },
  {
   "cell_type": "code",
   "execution_count": 10,
   "metadata": {},
   "outputs": [
    {
     "name": "stdout",
     "output_type": "stream",
     "text": [
      "op_ones=\n",
      "array([[1, 1, 1],\n",
      "       [1, 1, 1]])\n"
     ]
    }
   ],
   "source": [
    "print(\"op_ones=\\n%r\" % op_ones)"
   ]
  },
  {
   "cell_type": "code",
   "execution_count": 11,
   "metadata": {},
   "outputs": [
    {
     "name": "stdout",
     "output_type": "stream",
     "text": [
      "op_ones_like=\n",
      "array([[1, 1],\n",
      "       [1, 1],\n",
      "       [1, 1]])\n"
     ]
    }
   ],
   "source": [
    "print(\"op_ones_like=\\n%r\" % op_ones_like)"
   ]
  },
  {
   "cell_type": "code",
   "execution_count": 12,
   "metadata": {},
   "outputs": [
    {
     "name": "stdout",
     "output_type": "stream",
     "text": [
      "op_ones_fill=\n",
      "array([[ 1.+0.j,  1.+0.j,  1.+0.j],\n",
      "       [ 1.+0.j,  1.+0.j,  1.+0.j]], dtype=complex64)\n"
     ]
    }
   ],
   "source": [
    "print(\"op_ones_fill=\\n%r\" % op_ones_fill)"
   ]
  },
  {
   "cell_type": "code",
   "execution_count": 17,
   "metadata": {},
   "outputs": [
    {
     "name": "stdout",
     "output_type": "stream",
     "text": [
      "op_linspace=\t\t\tarray([ 10.,  11.,  12.,  13.], dtype=float32)\n",
      "op_range_limit18_start3_delta3=\tarray([ 3,  6,  9, 12, 15])\n",
      "op_range_limit5_default=\tarray([0, 1, 2, 3, 4])\n"
     ]
    }
   ],
   "source": [
    "op_linspace = tf.linspace(10.0, 13.0, 4, name=\"linspace\")\n",
    "\n",
    "start = 3\n",
    "limit = 18\n",
    "delta = 3\n",
    "op_range_limit18_start3_delta3 = tf.range(start, limit, delta)\n",
    "\n",
    "limit = 5\n",
    "op_range_limit5_default = tf.range(limit)\n",
    "\n",
    "op_linspace,op_range_limit18_start3_delta3,op_range_limit5_default = \\\n",
    "    sess.run([op_linspace,op_range_limit18_start3_delta3,op_range_limit5_default])\n",
    "    \n",
    "print(\"op_linspace=\\t\\t\\t%r\" % op_linspace)\n",
    "print(\"op_range_limit18_start3_delta3=\\t%r\" % op_range_limit18_start3_delta3)\n",
    "print(\"op_range_limit5_default=\\t%r\" % op_range_limit5_default)"
   ]
  },
  {
   "cell_type": "code",
   "execution_count": 23,
   "metadata": {},
   "outputs": [
    {
     "name": "stdout",
     "output_type": "stream",
     "text": [
      "0.0\n",
      "3.33333333333\n",
      "6.66666666667\n",
      "10.0\n"
     ]
    }
   ],
   "source": [
    "# Note that unlike NumPy or Python sequences, TensorFlow sequences are not iterable.\n",
    "import numpy as np\n",
    "for _ in np.linspace(0, 10, 4):\n",
    "    print(_)"
   ]
  },
  {
   "cell_type": "code",
   "execution_count": 28,
   "metadata": {},
   "outputs": [
    {
     "ename": "TypeError",
     "evalue": "'Tensor' object is not iterable.",
     "output_type": "error",
     "traceback": [
      "\u001b[1;31m---------------------------------------------------------------------------\u001b[0m",
      "\u001b[1;31mTypeError\u001b[0m                                 Traceback (most recent call last)",
      "\u001b[1;32m<ipython-input-28-4caf4d81e876>\u001b[0m in \u001b[0;36m<module>\u001b[1;34m()\u001b[0m\n\u001b[1;32m----> 1\u001b[1;33m \u001b[1;32mfor\u001b[0m \u001b[0m_\u001b[0m \u001b[1;32min\u001b[0m \u001b[0mtf\u001b[0m\u001b[1;33m.\u001b[0m\u001b[0mlinspace\u001b[0m\u001b[1;33m(\u001b[0m\u001b[1;36m0.0\u001b[0m\u001b[1;33m,\u001b[0m \u001b[1;36m10\u001b[0m\u001b[1;33m,\u001b[0m \u001b[1;36m4\u001b[0m\u001b[1;33m)\u001b[0m\u001b[1;33m:\u001b[0m\u001b[1;33m\u001b[0m\u001b[0m\n\u001b[0m\u001b[0;32m      2\u001b[0m     \u001b[0mprint\u001b[0m\u001b[1;33m(\u001b[0m\u001b[0m_\u001b[0m\u001b[1;33m)\u001b[0m\u001b[1;33m\u001b[0m\u001b[0m\n",
      "\u001b[1;32mc:\\users\\ziaz\\appdata\\local\\programs\\python\\python35\\lib\\site-packages\\tensorflow\\python\\framework\\ops.py\u001b[0m in \u001b[0;36m__iter__\u001b[1;34m(self)\u001b[0m\n\u001b[0;32m    474\u001b[0m       \u001b[0mTypeError\u001b[0m\u001b[1;33m:\u001b[0m \u001b[0mwhen\u001b[0m \u001b[0minvoked\u001b[0m\u001b[1;33m.\u001b[0m\u001b[1;33m\u001b[0m\u001b[0m\n\u001b[0;32m    475\u001b[0m     \"\"\"\n\u001b[1;32m--> 476\u001b[1;33m     \u001b[1;32mraise\u001b[0m \u001b[0mTypeError\u001b[0m\u001b[1;33m(\u001b[0m\u001b[1;34m\"'Tensor' object is not iterable.\"\u001b[0m\u001b[1;33m)\u001b[0m\u001b[1;33m\u001b[0m\u001b[0m\n\u001b[0m\u001b[0;32m    477\u001b[0m \u001b[1;33m\u001b[0m\u001b[0m\n\u001b[0;32m    478\u001b[0m   \u001b[1;32mdef\u001b[0m \u001b[0m__bool__\u001b[0m\u001b[1;33m(\u001b[0m\u001b[0mself\u001b[0m\u001b[1;33m)\u001b[0m\u001b[1;33m:\u001b[0m\u001b[1;33m\u001b[0m\u001b[0m\n",
      "\u001b[1;31mTypeError\u001b[0m: 'Tensor' object is not iterable."
     ]
    }
   ],
   "source": [
    "for _ in tf.linspace(0.0, 10, 4):\n",
    "    print(_)"
   ]
  },
  {
   "cell_type": "code",
   "execution_count": null,
   "metadata": {
    "collapsed": true
   },
   "outputs": [],
   "source": [
    "# "
   ]
  }
 ],
 "metadata": {
  "kernelspec": {
   "display_name": "Python 3",
   "language": "python",
   "name": "python3"
  },
  "language_info": {
   "codemirror_mode": {
    "name": "ipython",
    "version": 3
   },
   "file_extension": ".py",
   "mimetype": "text/x-python",
   "name": "python",
   "nbconvert_exporter": "python",
   "pygments_lexer": "ipython3",
   "version": "3.5.2"
  }
 },
 "nbformat": 4,
 "nbformat_minor": 2
}
